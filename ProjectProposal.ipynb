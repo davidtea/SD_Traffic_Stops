{
 "cells": [
  {
   "cell_type": "markdown",
   "metadata": {},
   "source": [
    "# COGS 108 - Assignment 4: Project Proposal"
   ]
  },
  {
   "cell_type": "markdown",
   "metadata": {},
   "source": [
    "## Important\n",
    "\n",
    "- Make sure all group member (3-5 people) are listed in the group members section.\n",
    "- ONE, and only one, member of your group should upload this notebook to TritonED. \n",
    "- Each member of the group will receive the same grade on this assignment. \n",
    "- Keep the file name the same: submit the file 'A4_ProjectProposal.ipynb'"
   ]
  },
  {
   "cell_type": "markdown",
   "metadata": {},
   "source": [
    "## Overview"
   ]
  },
  {
   "cell_type": "markdown",
   "metadata": {},
   "source": [
    "Read the project description, and detailed instructions for this assignment, in the 'A4_ProjectOutlineAndProposal' pdf."
   ]
  },
  {
   "cell_type": "markdown",
   "metadata": {},
   "source": [
    "## Group Members: Fill in the Student ID's of each group member here\n",
    "- A12650425\n",
    "- A10914210\n",
    "- A12177953"
   ]
  },
  {
   "cell_type": "markdown",
   "metadata": {},
   "source": [
    "### Research Question\n",
    "\n",
    "What is your research question? (1-2 sentences)"
   ]
  },
  {
   "cell_type": "markdown",
   "metadata": {},
   "source": [
    "Are there more vehicle stops at certain times and places than others? Does the frequency of vehicle stops vary significantly between different seasons?"
   ]
  },
  {
   "cell_type": "markdown",
   "metadata": {},
   "source": [
    "### Hypothesis\n",
    "\n",
    "What is your prediction (2-3 sentences)"
   ]
  },
  {
   "cell_type": "markdown",
   "metadata": {},
   "source": [
    "There will most likely be more traffic violations during periods of time with high traffic density (e.g. rush hour), during weekdays (when there are more people on the road who are driving to work), and during holiday seasons (since there would be more tourists and people visting family). On a broader scale, given that the population of San Diego is increasing, it reasonable to say that the number of traffic violations is also increasing at a similar rate. We can also guess that the number of vehicle stops in more populated areas is greater than those in less populated areas."
   ]
  },
  {
   "cell_type": "markdown",
   "metadata": {},
   "source": [
    "### Dataset(s)\n",
    "\n",
    "What data will you use to answer your question? Describe the dataset in terms of number of observations, what kind of features it contains, etc. You must use at least one dataset containing at least approximately 1000 observations (if your data are smaller but you feel they are sufficient, email Prof. Voytek). You are welcome (and in fact recommended) to find multiple datasets! If you do so, describe each one, and briefly explain how you will combine them together. "
   ]
  },
  {
   "cell_type": "markdown",
   "metadata": {},
   "source": [
    "*Fill in your dataset information here*\n",
    "\n",
    "Dataset Name: Vehicle Stops (year-to-date)\n",
    "- Link to the dataset: https://data.sandiego.gov/datasets/police-vehicle-stops/\n",
    "- Number of observations: 28362\n",
    "- This dataset contains all vehicle stops from the San Diego Police Department during 2017.\n",
    "\n",
    "Dataset Name: Vehicle Stops (2016)\n",
    "- Link to the dataset: https://data.sandiego.gov/datasets/police-vehicle-stops/\n",
    "- Number of observations: 103052\n",
    "- This dataset contains all vehicle stops from the San Diego Police Department during 2016.\n",
    "\n",
    "Dataset Name: Vehicle Stops (2015)\n",
    "- Link to the dataset: https://data.sandiego.gov/datasets/police-vehicle-stops/\n",
    "- Number of observations: 115423\n",
    "- This dataset contains all vehicle stops from the San Diego Police Department during 2015.\n",
    "\n",
    "Dataset Name: Vehicle Stops (2014)\n",
    "- Link to the dataset: https://data.sandiego.gov/datasets/police-vehicle-stops/\n",
    "- Number of observations: 144164\n",
    "- This dataset contains all vehicle stops from the San Diego Police Department during 2014.\n",
    "\n",
    "Dataset Name: Vehicle Stops Race Codes\n",
    "- Link to the dataset: https://data.sandiego.gov/datasets/police-vehicle-stops/\n",
    "- Number of observations: 18\n",
    "- This dataset contains the race codes used in the vehicle stops datasets and their corresponding race.\n",
    "\n",
    "Dataset Name: Vehicle Stops Dictionary\n",
    "- Link to the dataset: https://data.sandiego.gov/datasets/police-vehicle-stops/\n",
    "- Number of observations: 15\n",
    "- This dataset contains desciptions of each of the parameters in the vehicle stops datasets.\n",
    "\n",
    "Dataset Name: Police Beats (csv)\n",
    "- Link to the dataset: https://data.sandiego.gov/datasets/police-beats/\n",
    "- Number of observations: 125\n",
    "- This dataset contains the police service area codes and their corresponding regions.\n",
    "\n",
    "We plan on combining the four years of vehicle stop data together into one file. The other datasets are for our reference, so that we know what race each code refers to and which region each service area code refers to.\n",
    "\n",
    "(Copy this information for each dataset)\n",
    "- Dataset Name:\n",
    "- Link to the dataset: \n",
    "- Number of observations:\n",
    "\n",
    "1-2 sentences describing the dataset. \n",
    "\n",
    "If you plan to use multiple datasets, add 1-2 sentences about how you plan to combine these datasets."
   ]
  },
  {
   "cell_type": "markdown",
   "metadata": {},
   "source": [
    "### Background & Prior Work\n",
    "\n",
    "Why is this question of interest, what background information led you to your hypothesis, and why is this important?\n",
    "\n",
    "Find some relevant prior work, and reference them. Even if you think you have a totally novel question, find the most similar prior work you can, and discuss how it relates to your project. \n",
    "\n",
    "References can be research publications, but they need not be: blogs, github repositories, company websites, etc., are viable references if they are relevant to your project.\n",
    "\n",
    "(2-3 paragraphs, including at least 2 references)"
   ]
  },
  {
   "cell_type": "markdown",
   "metadata": {},
   "source": [
    "*Fill in your background and prior work here* \n",
    "\n",
    "The trend in the frequency of vehicle stops is of interest, especially given recent commotion over police abusing their power and violating the rights of civilians. Previous reports on vehicle stops found on the San Diego County's government website focus on apparent racial bias among the San Diego Police Department. Unlike these reports, we would like to take our analyses in a different direction and see if there are other external factors that influence the frequency of vehicle stops.\n",
    "\n",
    "One such factor that we'd like to examine is the time of day at which vehicle stops happen. There have been studies within other professions that show how the time of day affects job performance. For instance, judges tend to rule more harshly right before lunchtime. We'd like to see if similar correlations can be found with the SDPD. Additionally, we'd like to see if different regions in San Diego have different frequencies of traffic stops.\n",
    "\n",
    "References (include a link):\n",
    "- 1) https://www.sandiego.gov/sites/default/files/sdpdvehiclestopsfinal.pdf\n",
    "- 2) https://www.sandiego.gov/sites/default/files/legacy/police/pdf/stoprpt.pdf\n",
    "- 3) http://blogs.discovermagazine.com/notrocketscience/2011/04/11/justice-is-served-but-more-so-after-lunch-how-food-breaks-sway-the-decisions-of-judges/#.WR3-3mgrKMo"
   ]
  },
  {
   "cell_type": "markdown",
   "metadata": {},
   "source": [
    "### Proposed Methods\n",
    "\n",
    "What methods will you use to analyze your data?\n",
    "\n",
    "- How 'clean' is the data? To the extent that it requires cleaning, how will you do so?\n",
    "- How will you analyze the data? Be as specific as you can. Briefly mention any pre-processing steps that are required for your methods (for example, checking data distributions and performing any transformations that may be required). Include a brief outline of how you will apply your chosen method(s). \n",
    "- What do you plan to report? Briefly mention any key visualizations you plan to create, and/or the kind of result you will be able to report that addresses your question (this could be, for example, the outcome of some statistical test(s), prediction error on a model, a model fit parameter, etc.).\n",
    "- Include a list of packages you expect to use for you project. If you plan to use packages we have not used in class, add a very brief description about them (a few words is sufficient). "
   ]
  },
  {
   "cell_type": "markdown",
   "metadata": {},
   "source": [
    "*Fill in your proposed methods information here:*\n",
    "\n",
    "*Data Cleaning (2-3 sentences)*\n",
    "The vehicle stops data is fairly clean, but we will need to remove the \"obtained_consent\", \"contraband_found\", and \"property_seized\" columns since the majority of the datapoints do not contain values for these parameters. Also, we would need to remove rows that are missing data from the other columns. \n",
    "\n",
    "*Data Analysis (1-2 paragraphs)*\n",
    "We will analyze the data by creating a few python dictionaries. We will first create a dictionary to keep track of the number of vehicle stops within each month, and then create another dictionary to keep track of the number of vehicle stops hourly over the course of the day based on the timestamps. We may also find some way to look up the day of the week associated with each date and see if there are trends in vehicle stops across the week. In addition to seeing trends across San Diego county, we will also see if there are any trends within each subregion of San Diego. The vehicle stops data includes the police service area code for each stop, so we can create a dictionary entry for each service area code, and then add generate a total number of stops in each area.\n",
    "\n",
    "We may also try to predict future trends in vehicle stops by creating a linear regression model.\n",
    "\n",
    "*What to report (2-3 sentences)*\n",
    "We will create line graphs to show the trend in vehicle stops over the course of the months. We can create histograms to show the trend over the week and throughout the day. For the regional analysis, we can make a heatmap to show the frequency of stops within each region.\n",
    "\n",
    "Packages we plan to use:\n",
    "- pandas\n",
    "- numpy\n",
    "- matplotlib\n",
    "- bokeh (interactive visualization library)"
   ]
  },
  {
   "cell_type": "markdown",
   "metadata": {},
   "source": [
    "### Discussion\n",
    "\n",
    "What are the pitfalls and potential confounds of your data and/or methods? For example, how might biases in your data sources or analyses influence your interpretations? What will you do if you methods don't work and/or your hypotheses are wrong?\n",
    "\n",
    "(2-3 paragraphs)"
   ]
  },
  {
   "cell_type": "markdown",
   "metadata": {},
   "source": [
    "*Fill in your discussion information here*\n",
    "\n",
    "As previous reports on San Diego vehicle stops have mentioned, the data provided by the San Diego Police Department is incomplete and does not contain all of the information related to each and every vehicle stop. Also, the SDPD includes the data of non-resident vehicle stops, which would not reflect the changes in population within San Diego county. Additionally, as previous reports have stated, there is a racial bias towards minorities among the SDPD, so there may be more police stops in areas with more minorities, which would skew our data.\n",
    "\n",
    "If our methods do not work, then we will reevaluate our data and see if there is a way to remove the biases, or at the very least isolate them. For instance, we can see if there is any significant difference between including the non-resident vehicle stop data and not including it. \n",
    "\n",
    "Another confound that we came across after taking a quick glance at our data is that the number of vehicle stops is actually decreasing over the years, from 144164 stops in 2014 to 103052 in 2016. This trend already disproves our hypothesis that vehicle stops are increasing in San Diego. We will need to do further research and find possible reasons that explain this decline. "
   ]
  }
 ],
 "metadata": {
  "anaconda-cloud": {},
  "kernelspec": {
   "display_name": "Python 3",
   "language": "python",
   "name": "python3"
  },
  "language_info": {
   "codemirror_mode": {
    "name": "ipython",
    "version": 3
   },
   "file_extension": ".py",
   "mimetype": "text/x-python",
   "name": "python",
   "nbconvert_exporter": "python",
   "pygments_lexer": "ipython3",
   "version": "3.5.2"
  }
 },
 "nbformat": 4,
 "nbformat_minor": 2
}
